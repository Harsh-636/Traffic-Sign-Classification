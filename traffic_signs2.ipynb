{
 "cells": [
  {
   "cell_type": "code",
   "execution_count": 42,
   "metadata": {},
   "outputs": [],
   "source": [
    "import numpy as np \n",
    "import pandas as pd \n",
    "import tensorflow as tf\n",
    "from PIL import Image\n",
    "import os\n",
    "from sklearn.model_selection import train_test_split\n",
    "from keras.utils import to_categorical\n",
    "from keras.models import Sequential, load_model\n",
    "from keras.layers import Conv2D, MaxPool2D, Dense, Flatten, Dropout\n"
   ]
  },
  {
   "cell_type": "code",
   "execution_count": 43,
   "metadata": {},
   "outputs": [],
   "source": [
    "data = []\n",
    "labels = []\n",
    "classes = 43\n",
    "current_path = os.getcwd()\n",
    " \n",
    "for i in range(classes):\n",
    "    path = os.path.join(cur_path,'train',str(i))\n",
    "    images = os.listdir(path)\n",
    "\n",
    "    for a in images:\n",
    "        image = Image.open(path + '\\\\'+ a)\n",
    "        image = image.resize((30,30))\n",
    "        image = np.array(image)\n",
    "        data.append(image)\n",
    "        labels.append(i)\n"
   ]
  },
  {
   "cell_type": "code",
   "execution_count": 44,
   "metadata": {},
   "outputs": [
    {
     "name": "stdout",
     "output_type": "stream",
     "text": [
      "(39209, 30, 30, 3) (39209,)\n",
      "(31367, 30, 30, 3) (7842, 30, 30, 3) (31367,) (7842,)\n"
     ]
    }
   ],
   "source": [
    "data = np.array(data)\n",
    "labels = np.array(labels)\n",
    "\n",
    "print(data.shape, labels.shape)\n",
    "#Splits the training and testing dataset\n",
    "X_train, X_test, y_train, y_test = train_test_split(data, labels, test_size=0.2, random_state=42)\n",
    "\n",
    "print('Shape of input arrays :')\n",
    "print(X_train.shape, X_test.shape, y_train.shape, y_test.shape)\n",
    "\n",
    "#Converts the labels into one hot encoding\n",
    "y_train = to_categorical(y_train, 43)\n",
    "y_test = to_categorical(y_test, 43)"
   ]
  },
  {
   "cell_type": "code",
   "execution_count": 45,
   "metadata": {},
   "outputs": [],
   "source": [
    "model = Sequential()\n",
    "model.add(Conv2D(filters=32, kernel_size=(5,5), activation='relu', input_shape=X_train.shape[1:]))\n",
    "model.add(Conv2D(filters=32, kernel_size=(5,5), activation='relu'))\n",
    "model.add(MaxPool2D(pool_size=(2, 2)))\n",
    "model.add(Dropout(rate=0.25))\n",
    "model.add(Conv2D(filters=64, kernel_size=(3, 3), activation='relu'))\n",
    "model.add(Conv2D(filters=64, kernel_size=(3, 3), activation='relu'))\n",
    "model.add(MaxPool2D(pool_size=(2, 2)))\n",
    "model.add(Dropout(rate=0.25))\n",
    "model.add(Flatten())\n",
    "model.add(Dense(256, activation='relu'))\n",
    "model.add(Dropout(rate=0.5))\n",
    "model.add(Dense(43, activation='softmax'))"
   ]
  },
  {
   "cell_type": "code",
   "execution_count": 46,
   "metadata": {},
   "outputs": [
    {
     "name": "stdout",
     "output_type": "stream",
     "text": [
      "Train on 31367 samples, validate on 7842 samples\n",
      "Epoch 1/15\n",
      "31367/31367 [==============================] - 11s 347us/step - loss: 2.0593 - accuracy: 0.4646 - val_loss: 0.6819 - val_accuracy: 0.8226\n",
      "Epoch 2/15\n",
      "31367/31367 [==============================] - 9s 295us/step - loss: 0.7373 - accuracy: 0.7830 - val_loss: 0.2503 - val_accuracy: 0.9287\n",
      "Epoch 3/15\n",
      "31367/31367 [==============================] - 9s 294us/step - loss: 0.4736 - accuracy: 0.8590 - val_loss: 0.1622 - val_accuracy: 0.9573\n",
      "Epoch 4/15\n",
      "31367/31367 [==============================] - 10s 305us/step - loss: 0.3957 - accuracy: 0.8830 - val_loss: 0.1525 - val_accuracy: 0.9570\n",
      "Epoch 5/15\n",
      "31367/31367 [==============================] - 10s 317us/step - loss: 0.3328 - accuracy: 0.9024 - val_loss: 0.1288 - val_accuracy: 0.9667\n",
      "Epoch 6/15\n",
      "31367/31367 [==============================] - 11s 340us/step - loss: 0.3135 - accuracy: 0.9097 - val_loss: 0.1010 - val_accuracy: 0.9739\n",
      "Epoch 7/15\n",
      "31367/31367 [==============================] - 10s 312us/step - loss: 0.2710 - accuracy: 0.9223 - val_loss: 0.1354 - val_accuracy: 0.9606\n",
      "Epoch 8/15\n",
      "31367/31367 [==============================] - 10s 314us/step - loss: 0.2589 - accuracy: 0.9273 - val_loss: 0.0993 - val_accuracy: 0.9711\n",
      "Epoch 9/15\n",
      "31367/31367 [==============================] - 10s 311us/step - loss: 0.2474 - accuracy: 0.9301 - val_loss: 0.0728 - val_accuracy: 0.9802\n",
      "Epoch 10/15\n",
      "31367/31367 [==============================] - 9s 299us/step - loss: 0.2455 - accuracy: 0.9306 - val_loss: 0.0592 - val_accuracy: 0.9816\n",
      "Epoch 11/15\n",
      "31367/31367 [==============================] - 11s 337us/step - loss: 0.2264 - accuracy: 0.9368 - val_loss: 0.0502 - val_accuracy: 0.9870\n",
      "Epoch 12/15\n",
      "31367/31367 [==============================] - 10s 315us/step - loss: 0.2551 - accuracy: 0.9307 - val_loss: 0.1001 - val_accuracy: 0.9722\n",
      "Epoch 13/15\n",
      "31367/31367 [==============================] - 10s 306us/step - loss: 0.2141 - accuracy: 0.9406 - val_loss: 0.0707 - val_accuracy: 0.9807\n",
      "Epoch 14/15\n",
      "31367/31367 [==============================] - 10s 309us/step - loss: 0.2374 - accuracy: 0.9355 - val_loss: 0.0982 - val_accuracy: 0.9728\n",
      "Epoch 15/15\n",
      "31367/31367 [==============================] - 9s 296us/step - loss: 0.2167 - accuracy: 0.9403 - val_loss: 0.0666 - val_accuracy: 0.9799\n"
     ]
    }
   ],
   "source": [
    "model.compile(loss='categorical_crossentropy', optimizer='adam', metrics=['accuracy'])\n",
    "\n",
    "epochs = 15\n",
    "history = model.fit(X_train, y_train, batch_size=32, epochs=epochs, validation_data=(X_test, y_test))\n",
    "model.save(\"trafficsign_model.h5\")"
   ]
  },
  {
   "cell_type": "code",
   "execution_count": 48,
   "metadata": {},
   "outputs": [
    {
     "name": "stdout",
     "output_type": "stream",
     "text": [
      "0.9463182897862232\n"
     ]
    }
   ],
   "source": [
    "from sklearn.metrics import accuracy_score\n",
    "\n",
    "y_test = pd.read_csv('Test.csv')\n",
    "\n",
    "labels = y_test[\"ClassId\"].values\n",
    "imgs = y_test[\"Path\"].values\n",
    "\n",
    "data=[]\n",
    "\n",
    "for img in imgs:\n",
    "    image = Image.open(img)\n",
    "    image = image.resize((30,30))\n",
    "    data.append(np.array(image))\n",
    "\n",
    "X_test=np.array(data)\n",
    "\n",
    "pred = model.predict_classes(X_test)\n",
    "\n",
    "#Accuracy with the test data\n",
    "from sklearn.metrics import accuracy_score\n",
    "print(accuracy_score(labels, pred))"
   ]
  },
  {
   "cell_type": "code",
   "execution_count": 49,
   "metadata": {},
   "outputs": [],
   "source": [
    "model.save('traffic_classifier.h5')"
   ]
  },
  {
   "cell_type": "code",
   "execution_count": 55,
   "metadata": {},
   "outputs": [
    {
     "data": {
      "text/plain": [
       "972172"
      ]
     },
     "execution_count": 55,
     "metadata": {},
     "output_type": "execute_result"
    }
   ],
   "source": [
    "new_model = tf.keras.models.load_model(filepath='traffic_classifier.h5')\n",
    "tflite_converter = tf.lite.TFLiteConverter.from_keras_model(new_model)\n",
    "tflite_model = tflite_converter.convert()\n",
    "open(\"tf_lite_model.tflite\", \"wb\").write(tflite_model)"
   ]
  }
 ],
 "metadata": {
  "kernelspec": {
   "display_name": "Python [conda env:.conda-tf_gpu] *",
   "language": "python",
   "name": "conda-env-.conda-tf_gpu-py"
  },
  "language_info": {
   "codemirror_mode": {
    "name": "ipython",
    "version": 3
   },
   "file_extension": ".py",
   "mimetype": "text/x-python",
   "name": "python",
   "nbconvert_exporter": "python",
   "pygments_lexer": "ipython3",
   "version": "3.7.7"
  }
 },
 "nbformat": 4,
 "nbformat_minor": 4
}
